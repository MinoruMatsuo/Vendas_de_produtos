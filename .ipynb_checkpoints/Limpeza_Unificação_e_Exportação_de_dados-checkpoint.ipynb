{
 "cells": [
  {
   "cell_type": "code",
   "execution_count": 1,
   "metadata": {},
   "outputs": [],
   "source": [
    "import pandas as pd\n",
    "import numpy as np"
   ]
  },
  {
   "cell_type": "markdown",
   "metadata": {},
   "source": [
    "# Carregando dados\n",
    "- Dados de compra\n",
    "- Dados dos produtos"
   ]
  },
  {
   "cell_type": "code",
   "execution_count": 2,
   "metadata": {},
   "outputs": [],
   "source": [
    "janeiro = pd.read_csv('dados_vendas/Sales_January_2019.csv', sep=',')\n",
    "fevereiro = pd.read_csv('dados_vendas/Sales_February_2019.csv', sep=',')\n",
    "marco = pd.read_csv('dados_vendas/Sales_March_2019.csv', sep=',')\n",
    "abril = pd.read_csv('dados_vendas/Sales_April_2019.csv', sep=',')\n",
    "maio = pd.read_csv('dados_vendas/Sales_May_2019.csv', sep=',')\n",
    "junho = pd.read_csv('dados_vendas/Sales_June_2019.csv', sep=',')\n",
    "julho = pd.read_csv('dados_vendas/Sales_July_2019.csv', sep=',')\n",
    "agosto = pd.read_csv('dados_vendas/Sales_August_2019.csv', sep=',')\n",
    "setembro = pd.read_csv('dados_vendas/Sales_September_2019.csv', sep=',')\n",
    "outubro = pd.read_csv('dados_vendas/Sales_October_2019.csv', sep=',')\n",
    "novembro = pd.read_csv('dados_vendas/Sales_November_2019.csv', sep=',')\n",
    "dezembro = pd.read_csv('dados_vendas/Sales_December_2019.csv', sep=',')\n",
    "produtos = pd.read_csv('dados_vendas/products.csv')"
   ]
  },
  {
   "cell_type": "markdown",
   "metadata": {},
   "source": [
    "# Analisando os data frames de compras\n",
    "- Abrimos os arquivos .csv dos meses de janeiro e fevereiro;\n",
    "- Verificamos se os arquivos de julho e dezembro seguiam a mesma estrutura de colunas;\n",
    "- Fica claro que há um padrão de colunas, podendo assim serem unidos, sem muitas preocupações;"
   ]
  },
  {
   "cell_type": "code",
   "execution_count": 3,
   "metadata": {},
   "outputs": [
    {
     "data": {
      "text/html": [
       "<div>\n",
       "<style scoped>\n",
       "    .dataframe tbody tr th:only-of-type {\n",
       "        vertical-align: middle;\n",
       "    }\n",
       "\n",
       "    .dataframe tbody tr th {\n",
       "        vertical-align: top;\n",
       "    }\n",
       "\n",
       "    .dataframe thead th {\n",
       "        text-align: right;\n",
       "    }\n",
       "</style>\n",
       "<table border=\"1\" class=\"dataframe\">\n",
       "  <thead>\n",
       "    <tr style=\"text-align: right;\">\n",
       "      <th></th>\n",
       "      <th>Order ID</th>\n",
       "      <th>Product ID</th>\n",
       "      <th>Quantity Ordered</th>\n",
       "      <th>Order Date</th>\n",
       "      <th>Purchase Address</th>\n",
       "    </tr>\n",
       "  </thead>\n",
       "  <tbody>\n",
       "    <tr>\n",
       "      <th>0</th>\n",
       "      <td>141234</td>\n",
       "      <td>21</td>\n",
       "      <td>1</td>\n",
       "      <td>01/22/19 21:25</td>\n",
       "      <td>944 Walnut St, Boston, MA 02215</td>\n",
       "    </tr>\n",
       "    <tr>\n",
       "      <th>1</th>\n",
       "      <td>141235</td>\n",
       "      <td>8</td>\n",
       "      <td>1</td>\n",
       "      <td>01/28/19 14:15</td>\n",
       "      <td>185 Maple St, Portland, OR 97035</td>\n",
       "    </tr>\n",
       "    <tr>\n",
       "      <th>2</th>\n",
       "      <td>141236</td>\n",
       "      <td>10</td>\n",
       "      <td>2</td>\n",
       "      <td>01/17/19 13:33</td>\n",
       "      <td>538 Adams St, San Francisco, CA 94016</td>\n",
       "    </tr>\n",
       "    <tr>\n",
       "      <th>3</th>\n",
       "      <td>141237</td>\n",
       "      <td>3</td>\n",
       "      <td>1</td>\n",
       "      <td>01/05/19 20:33</td>\n",
       "      <td>738 10th St, Los Angeles, CA 90001</td>\n",
       "    </tr>\n",
       "    <tr>\n",
       "      <th>4</th>\n",
       "      <td>141238</td>\n",
       "      <td>10</td>\n",
       "      <td>1</td>\n",
       "      <td>01/25/19 11:59</td>\n",
       "      <td>387 10th St, Austin, TX 73301</td>\n",
       "    </tr>\n",
       "  </tbody>\n",
       "</table>\n",
       "</div>"
      ],
      "text/plain": [
       "  Order ID  Product ID Quantity Ordered      Order Date  \\\n",
       "0   141234          21                1  01/22/19 21:25   \n",
       "1   141235           8                1  01/28/19 14:15   \n",
       "2   141236          10                2  01/17/19 13:33   \n",
       "3   141237           3                1  01/05/19 20:33   \n",
       "4   141238          10                1  01/25/19 11:59   \n",
       "\n",
       "                        Purchase Address  \n",
       "0        944 Walnut St, Boston, MA 02215  \n",
       "1       185 Maple St, Portland, OR 97035  \n",
       "2  538 Adams St, San Francisco, CA 94016  \n",
       "3     738 10th St, Los Angeles, CA 90001  \n",
       "4          387 10th St, Austin, TX 73301  "
      ]
     },
     "execution_count": 3,
     "metadata": {},
     "output_type": "execute_result"
    }
   ],
   "source": [
    "janeiro.head()"
   ]
  },
  {
   "cell_type": "code",
   "execution_count": 4,
   "metadata": {},
   "outputs": [
    {
     "data": {
      "text/html": [
       "<div>\n",
       "<style scoped>\n",
       "    .dataframe tbody tr th:only-of-type {\n",
       "        vertical-align: middle;\n",
       "    }\n",
       "\n",
       "    .dataframe tbody tr th {\n",
       "        vertical-align: top;\n",
       "    }\n",
       "\n",
       "    .dataframe thead th {\n",
       "        text-align: right;\n",
       "    }\n",
       "</style>\n",
       "<table border=\"1\" class=\"dataframe\">\n",
       "  <thead>\n",
       "    <tr style=\"text-align: right;\">\n",
       "      <th></th>\n",
       "      <th>Order ID</th>\n",
       "      <th>Product ID</th>\n",
       "      <th>Quantity Ordered</th>\n",
       "      <th>Order Date</th>\n",
       "      <th>Purchase Address</th>\n",
       "    </tr>\n",
       "  </thead>\n",
       "  <tbody>\n",
       "    <tr>\n",
       "      <th>0</th>\n",
       "      <td>150502</td>\n",
       "      <td>21</td>\n",
       "      <td>1</td>\n",
       "      <td>02/18/19 01:35</td>\n",
       "      <td>866 Spruce St, Portland, ME 04101</td>\n",
       "    </tr>\n",
       "    <tr>\n",
       "      <th>1</th>\n",
       "      <td>150503</td>\n",
       "      <td>4</td>\n",
       "      <td>1</td>\n",
       "      <td>02/13/19 07:24</td>\n",
       "      <td>18 13th St, San Francisco, CA 94016</td>\n",
       "    </tr>\n",
       "    <tr>\n",
       "      <th>2</th>\n",
       "      <td>150504</td>\n",
       "      <td>17</td>\n",
       "      <td>1</td>\n",
       "      <td>02/18/19 09:46</td>\n",
       "      <td>52 6th St, New York City, NY 10001</td>\n",
       "    </tr>\n",
       "    <tr>\n",
       "      <th>3</th>\n",
       "      <td>150505</td>\n",
       "      <td>8</td>\n",
       "      <td>1</td>\n",
       "      <td>02/02/19 16:47</td>\n",
       "      <td>129 Cherry St, Atlanta, GA 30301</td>\n",
       "    </tr>\n",
       "    <tr>\n",
       "      <th>4</th>\n",
       "      <td>150506</td>\n",
       "      <td>4</td>\n",
       "      <td>2</td>\n",
       "      <td>02/28/19 20:32</td>\n",
       "      <td>548 Lincoln St, Seattle, WA 98101</td>\n",
       "    </tr>\n",
       "  </tbody>\n",
       "</table>\n",
       "</div>"
      ],
      "text/plain": [
       "  Order ID  Product ID Quantity Ordered      Order Date  \\\n",
       "0   150502          21                1  02/18/19 01:35   \n",
       "1   150503           4                1  02/13/19 07:24   \n",
       "2   150504          17                1  02/18/19 09:46   \n",
       "3   150505           8                1  02/02/19 16:47   \n",
       "4   150506           4                2  02/28/19 20:32   \n",
       "\n",
       "                      Purchase Address  \n",
       "0    866 Spruce St, Portland, ME 04101  \n",
       "1  18 13th St, San Francisco, CA 94016  \n",
       "2   52 6th St, New York City, NY 10001  \n",
       "3     129 Cherry St, Atlanta, GA 30301  \n",
       "4    548 Lincoln St, Seattle, WA 98101  "
      ]
     },
     "execution_count": 4,
     "metadata": {},
     "output_type": "execute_result"
    }
   ],
   "source": [
    "fevereiro.head()"
   ]
  },
  {
   "cell_type": "code",
   "execution_count": 5,
   "metadata": {},
   "outputs": [
    {
     "name": "stdout",
     "output_type": "stream",
     "text": [
      "<class 'pandas.core.frame.DataFrame'>\n",
      "RangeIndex: 9723 entries, 0 to 9722\n",
      "Data columns (total 5 columns):\n",
      " #   Column            Non-Null Count  Dtype \n",
      "---  ------            --------------  ----- \n",
      " 0   Order ID          9697 non-null   object\n",
      " 1   Product ID        9723 non-null   int64 \n",
      " 2   Quantity Ordered  9697 non-null   object\n",
      " 3   Order Date        9697 non-null   object\n",
      " 4   Purchase Address  9697 non-null   object\n",
      "dtypes: int64(1), object(4)\n",
      "memory usage: 379.9+ KB\n"
     ]
    }
   ],
   "source": [
    "janeiro.info()"
   ]
  },
  {
   "cell_type": "code",
   "execution_count": 6,
   "metadata": {},
   "outputs": [
    {
     "data": {
      "text/plain": [
       "Index(['Order ID', 'Product ID', 'Quantity Ordered', 'Order Date',\n",
       "       'Purchase Address'],\n",
       "      dtype='object')"
      ]
     },
     "execution_count": 6,
     "metadata": {},
     "output_type": "execute_result"
    }
   ],
   "source": [
    "julho.columns"
   ]
  },
  {
   "cell_type": "code",
   "execution_count": 7,
   "metadata": {},
   "outputs": [
    {
     "data": {
      "text/plain": [
       "Index(['Order ID', 'Product ID', 'Quantity Ordered', 'Order Date',\n",
       "       'Purchase Address'],\n",
       "      dtype='object')"
      ]
     },
     "execution_count": 7,
     "metadata": {},
     "output_type": "execute_result"
    }
   ],
   "source": [
    "dezembro.columns"
   ]
  },
  {
   "cell_type": "markdown",
   "metadata": {},
   "source": [
    "# Unificando arquivos .csv de compra"
   ]
  },
  {
   "cell_type": "code",
   "execution_count": 8,
   "metadata": {},
   "outputs": [],
   "source": [
    "vendas_2019 = pd.concat([janeiro, fevereiro, marco, abril, maio, junho, julho, agosto, setembro, outubro, novembro, dezembro], axis= 0)"
   ]
  },
  {
   "cell_type": "code",
   "execution_count": 9,
   "metadata": {},
   "outputs": [
    {
     "data": {
      "text/plain": [
       "<bound method DataFrame.info of       Order ID  Product ID Quantity Ordered      Order Date  \\\n",
       "0       141234          21                1  01/22/19 21:25   \n",
       "1       141235           8                1  01/28/19 14:15   \n",
       "2       141236          10                2  01/17/19 13:33   \n",
       "3       141237           3                1  01/05/19 20:33   \n",
       "4       141238          10                1  01/25/19 11:59   \n",
       "...        ...         ...              ...             ...   \n",
       "25112   319666           8                1  12/11/19 20:58   \n",
       "25113   319667           4                2  12/01/19 12:01   \n",
       "25114   319668          26                1  12/09/19 06:43   \n",
       "25115   319669          10                1  12/03/19 10:39   \n",
       "25116   319670           5                1  12/21/19 21:45   \n",
       "\n",
       "                             Purchase Address  \n",
       "0             944 Walnut St, Boston, MA 02215  \n",
       "1            185 Maple St, Portland, OR 97035  \n",
       "2       538 Adams St, San Francisco, CA 94016  \n",
       "3          738 10th St, Los Angeles, CA 90001  \n",
       "4               387 10th St, Austin, TX 73301  \n",
       "...                                       ...  \n",
       "25112  14 Madison St, San Francisco, CA 94016  \n",
       "25113    549 Willow St, Los Angeles, CA 90001  \n",
       "25114        273 Wilson St, Seattle, WA 98101  \n",
       "25115          778 River St, Dallas, TX 75001  \n",
       "25116  747 Chestnut St, Los Angeles, CA 90001  \n",
       "\n",
       "[186850 rows x 5 columns]>"
      ]
     },
     "execution_count": 9,
     "metadata": {},
     "output_type": "execute_result"
    }
   ],
   "source": [
    "vendas_2019.info"
   ]
  },
  {
   "cell_type": "markdown",
   "metadata": {},
   "source": [
    "# Tratando os dados de compra\n",
    "- Criamos uma mascara booleana para identificar os valores nulos;\n",
    "- Utilizamos o comando .value_counts() para identificar o número de valores nulos;\n",
    "- Separamos por tanto todas os pedidos sem a identificação de pedido (Order ID);\n",
    "- Após uma breve análise podemos identificar que todos as transações do produto com \"Product ID\" = 19 encontram-se sem Order ID;\n",
    "- Deve ser reportado o erro para posterior análise;\n",
    "- Sabendo que todos os valores nulos rastreados, invertemos a mascara booleana e criamos uma nova seleção exclusiva para valores validos;"
   ]
  },
  {
   "cell_type": "code",
   "execution_count": 10,
   "metadata": {},
   "outputs": [],
   "source": [
    "valores_nulos = vendas_2019.isnull()"
   ]
  },
  {
   "cell_type": "code",
   "execution_count": 11,
   "metadata": {},
   "outputs": [
    {
     "data": {
      "text/html": [
       "<div>\n",
       "<style scoped>\n",
       "    .dataframe tbody tr th:only-of-type {\n",
       "        vertical-align: middle;\n",
       "    }\n",
       "\n",
       "    .dataframe tbody tr th {\n",
       "        vertical-align: top;\n",
       "    }\n",
       "\n",
       "    .dataframe thead th {\n",
       "        text-align: right;\n",
       "    }\n",
       "</style>\n",
       "<table border=\"1\" class=\"dataframe\">\n",
       "  <thead>\n",
       "    <tr style=\"text-align: right;\">\n",
       "      <th></th>\n",
       "      <th>Order ID</th>\n",
       "      <th>Product ID</th>\n",
       "      <th>Quantity Ordered</th>\n",
       "      <th>Order Date</th>\n",
       "      <th>Purchase Address</th>\n",
       "    </tr>\n",
       "  </thead>\n",
       "  <tbody>\n",
       "    <tr>\n",
       "      <th>25112</th>\n",
       "      <td>False</td>\n",
       "      <td>False</td>\n",
       "      <td>False</td>\n",
       "      <td>False</td>\n",
       "      <td>False</td>\n",
       "    </tr>\n",
       "    <tr>\n",
       "      <th>25113</th>\n",
       "      <td>False</td>\n",
       "      <td>False</td>\n",
       "      <td>False</td>\n",
       "      <td>False</td>\n",
       "      <td>False</td>\n",
       "    </tr>\n",
       "    <tr>\n",
       "      <th>25114</th>\n",
       "      <td>False</td>\n",
       "      <td>False</td>\n",
       "      <td>False</td>\n",
       "      <td>False</td>\n",
       "      <td>False</td>\n",
       "    </tr>\n",
       "    <tr>\n",
       "      <th>25115</th>\n",
       "      <td>False</td>\n",
       "      <td>False</td>\n",
       "      <td>False</td>\n",
       "      <td>False</td>\n",
       "      <td>False</td>\n",
       "    </tr>\n",
       "    <tr>\n",
       "      <th>25116</th>\n",
       "      <td>False</td>\n",
       "      <td>False</td>\n",
       "      <td>False</td>\n",
       "      <td>False</td>\n",
       "      <td>False</td>\n",
       "    </tr>\n",
       "  </tbody>\n",
       "</table>\n",
       "</div>"
      ],
      "text/plain": [
       "       Order ID  Product ID  Quantity Ordered  Order Date  Purchase Address\n",
       "25112     False       False             False       False             False\n",
       "25113     False       False             False       False             False\n",
       "25114     False       False             False       False             False\n",
       "25115     False       False             False       False             False\n",
       "25116     False       False             False       False             False"
      ]
     },
     "execution_count": 11,
     "metadata": {},
     "output_type": "execute_result"
    }
   ],
   "source": [
    "valores_nulos.tail()"
   ]
  },
  {
   "cell_type": "code",
   "execution_count": 12,
   "metadata": {},
   "outputs": [
    {
     "data": {
      "text/plain": [
       "False    186305\n",
       "True        545\n",
       "Name: Order ID, dtype: int64"
      ]
     },
     "execution_count": 12,
     "metadata": {},
     "output_type": "execute_result"
    }
   ],
   "source": [
    "valores_nulos['Order ID'].value_counts()"
   ]
  },
  {
   "cell_type": "code",
   "execution_count": 13,
   "metadata": {},
   "outputs": [],
   "source": [
    "selecao = valores_nulos['Order ID']\n",
    "sem_order_id = vendas_2019[selecao]"
   ]
  },
  {
   "cell_type": "code",
   "execution_count": 14,
   "metadata": {},
   "outputs": [
    {
     "data": {
      "text/html": [
       "<div>\n",
       "<style scoped>\n",
       "    .dataframe tbody tr th:only-of-type {\n",
       "        vertical-align: middle;\n",
       "    }\n",
       "\n",
       "    .dataframe tbody tr th {\n",
       "        vertical-align: top;\n",
       "    }\n",
       "\n",
       "    .dataframe thead th {\n",
       "        text-align: right;\n",
       "    }\n",
       "</style>\n",
       "<table border=\"1\" class=\"dataframe\">\n",
       "  <thead>\n",
       "    <tr style=\"text-align: right;\">\n",
       "      <th></th>\n",
       "      <th>Order ID</th>\n",
       "      <th>Product ID</th>\n",
       "      <th>Quantity Ordered</th>\n",
       "      <th>Order Date</th>\n",
       "      <th>Purchase Address</th>\n",
       "    </tr>\n",
       "  </thead>\n",
       "  <tbody>\n",
       "    <tr>\n",
       "      <th>664</th>\n",
       "      <td>NaN</td>\n",
       "      <td>19</td>\n",
       "      <td>NaN</td>\n",
       "      <td>NaN</td>\n",
       "      <td>NaN</td>\n",
       "    </tr>\n",
       "    <tr>\n",
       "      <th>678</th>\n",
       "      <td>NaN</td>\n",
       "      <td>19</td>\n",
       "      <td>NaN</td>\n",
       "      <td>NaN</td>\n",
       "      <td>NaN</td>\n",
       "    </tr>\n",
       "    <tr>\n",
       "      <th>797</th>\n",
       "      <td>NaN</td>\n",
       "      <td>19</td>\n",
       "      <td>NaN</td>\n",
       "      <td>NaN</td>\n",
       "      <td>NaN</td>\n",
       "    </tr>\n",
       "    <tr>\n",
       "      <th>876</th>\n",
       "      <td>NaN</td>\n",
       "      <td>19</td>\n",
       "      <td>NaN</td>\n",
       "      <td>NaN</td>\n",
       "      <td>NaN</td>\n",
       "    </tr>\n",
       "    <tr>\n",
       "      <th>1299</th>\n",
       "      <td>NaN</td>\n",
       "      <td>19</td>\n",
       "      <td>NaN</td>\n",
       "      <td>NaN</td>\n",
       "      <td>NaN</td>\n",
       "    </tr>\n",
       "  </tbody>\n",
       "</table>\n",
       "</div>"
      ],
      "text/plain": [
       "     Order ID  Product ID Quantity Ordered Order Date Purchase Address\n",
       "664       NaN          19              NaN        NaN              NaN\n",
       "678       NaN          19              NaN        NaN              NaN\n",
       "797       NaN          19              NaN        NaN              NaN\n",
       "876       NaN          19              NaN        NaN              NaN\n",
       "1299      NaN          19              NaN        NaN              NaN"
      ]
     },
     "execution_count": 14,
     "metadata": {},
     "output_type": "execute_result"
    }
   ],
   "source": [
    "sem_order_id.head()"
   ]
  },
  {
   "cell_type": "code",
   "execution_count": 15,
   "metadata": {},
   "outputs": [
    {
     "data": {
      "text/plain": [
       "<bound method DataFrame.info of       Order ID  Product ID Quantity Ordered Order Date Purchase Address\n",
       "664        NaN          19              NaN        NaN              NaN\n",
       "678        NaN          19              NaN        NaN              NaN\n",
       "797        NaN          19              NaN        NaN              NaN\n",
       "876        NaN          19              NaN        NaN              NaN\n",
       "1299       NaN          19              NaN        NaN              NaN\n",
       "...        ...         ...              ...        ...              ...\n",
       "22945      NaN          19              NaN        NaN              NaN\n",
       "22962      NaN          19              NaN        NaN              NaN\n",
       "23309      NaN          19              NaN        NaN              NaN\n",
       "23996      NaN          19              NaN        NaN              NaN\n",
       "24730      NaN          19              NaN        NaN              NaN\n",
       "\n",
       "[545 rows x 5 columns]>"
      ]
     },
     "execution_count": 15,
     "metadata": {},
     "output_type": "execute_result"
    }
   ],
   "source": [
    "sem_order_id.info\n",
    "# Temos 545 registros núlos"
   ]
  },
  {
   "cell_type": "code",
   "execution_count": 16,
   "metadata": {},
   "outputs": [
    {
     "data": {
      "text/plain": [
       "array([19], dtype=int64)"
      ]
     },
     "execution_count": 16,
     "metadata": {},
     "output_type": "execute_result"
    }
   ],
   "source": [
    "sem_order_id['Product ID'].unique()\n",
    "# só temos itens com valor nulo com Product ID = 19"
   ]
  },
  {
   "cell_type": "code",
   "execution_count": 17,
   "metadata": {},
   "outputs": [
    {
     "data": {
      "text/plain": [
       "2     21903\n",
       "8     21658\n",
       "6     20641\n",
       "4     20577\n",
       "10    18882\n",
       "23    15549\n",
       "5     13325\n",
       "3      7507\n",
       "21     6842\n",
       "17     6230\n",
       "15     6181\n",
       "25     5525\n",
       "24     4800\n",
       "22     4724\n",
       "7      4128\n",
       "14     4101\n",
       "26     2065\n",
       "1       666\n",
       "20      646\n",
       "19      545\n",
       "18      355\n",
       "Name: Product ID, dtype: int64"
      ]
     },
     "execution_count": 17,
     "metadata": {},
     "output_type": "execute_result"
    }
   ],
   "source": [
    "vendas_2019['Product ID'].value_counts()\n",
    "# Product ID = 19 = 545 Registros"
   ]
  },
  {
   "cell_type": "code",
   "execution_count": 18,
   "metadata": {},
   "outputs": [],
   "source": [
    "com_order_id = vendas_2019[~selecao]"
   ]
  },
  {
   "cell_type": "code",
   "execution_count": 19,
   "metadata": {},
   "outputs": [
    {
     "data": {
      "text/plain": [
       "<bound method DataFrame.info of       Order ID  Product ID Quantity Ordered      Order Date  \\\n",
       "0       141234          21                1  01/22/19 21:25   \n",
       "1       141235           8                1  01/28/19 14:15   \n",
       "2       141236          10                2  01/17/19 13:33   \n",
       "3       141237           3                1  01/05/19 20:33   \n",
       "4       141238          10                1  01/25/19 11:59   \n",
       "...        ...         ...              ...             ...   \n",
       "25112   319666           8                1  12/11/19 20:58   \n",
       "25113   319667           4                2  12/01/19 12:01   \n",
       "25114   319668          26                1  12/09/19 06:43   \n",
       "25115   319669          10                1  12/03/19 10:39   \n",
       "25116   319670           5                1  12/21/19 21:45   \n",
       "\n",
       "                             Purchase Address  \n",
       "0             944 Walnut St, Boston, MA 02215  \n",
       "1            185 Maple St, Portland, OR 97035  \n",
       "2       538 Adams St, San Francisco, CA 94016  \n",
       "3          738 10th St, Los Angeles, CA 90001  \n",
       "4               387 10th St, Austin, TX 73301  \n",
       "...                                       ...  \n",
       "25112  14 Madison St, San Francisco, CA 94016  \n",
       "25113    549 Willow St, Los Angeles, CA 90001  \n",
       "25114        273 Wilson St, Seattle, WA 98101  \n",
       "25115          778 River St, Dallas, TX 75001  \n",
       "25116  747 Chestnut St, Los Angeles, CA 90001  \n",
       "\n",
       "[186305 rows x 5 columns]>"
      ]
     },
     "execution_count": 19,
     "metadata": {},
     "output_type": "execute_result"
    }
   ],
   "source": [
    "com_order_id.info"
   ]
  },
  {
   "cell_type": "code",
   "execution_count": 20,
   "metadata": {},
   "outputs": [
    {
     "data": {
      "text/plain": [
       "545"
      ]
     },
     "execution_count": 20,
     "metadata": {},
     "output_type": "execute_result"
    }
   ],
   "source": [
    "186850 - 186305\n",
    "# a diferença de linhas entre vendas2019 e o data frame com a mascara aplicada é igual ao número de dados faltantes,\n",
    "# então está correto"
   ]
  },
  {
   "cell_type": "markdown",
   "metadata": {},
   "source": [
    "# Organizando dados de compras\n",
    "- Podemos ver que o arquivo contem data e horario na mesma coluna\n",
    "- Para que seja possivel a futura análise devemos a data do horário;\n",
    "- Criamos variaveis auxiliares para o armazenamento de datas e horas;\n",
    "- Removemos a coluna com as informações aglomeradas;\n",
    "- Inserimos as colunas de data e hora no dataframe;"
   ]
  },
  {
   "cell_type": "code",
   "execution_count": 21,
   "metadata": {},
   "outputs": [
    {
     "data": {
      "text/html": [
       "<div>\n",
       "<style scoped>\n",
       "    .dataframe tbody tr th:only-of-type {\n",
       "        vertical-align: middle;\n",
       "    }\n",
       "\n",
       "    .dataframe tbody tr th {\n",
       "        vertical-align: top;\n",
       "    }\n",
       "\n",
       "    .dataframe thead th {\n",
       "        text-align: right;\n",
       "    }\n",
       "</style>\n",
       "<table border=\"1\" class=\"dataframe\">\n",
       "  <thead>\n",
       "    <tr style=\"text-align: right;\">\n",
       "      <th></th>\n",
       "      <th>Order ID</th>\n",
       "      <th>Product ID</th>\n",
       "      <th>Quantity Ordered</th>\n",
       "      <th>Order Date</th>\n",
       "      <th>Purchase Address</th>\n",
       "    </tr>\n",
       "  </thead>\n",
       "  <tbody>\n",
       "    <tr>\n",
       "      <th>0</th>\n",
       "      <td>141234</td>\n",
       "      <td>21</td>\n",
       "      <td>1</td>\n",
       "      <td>01/22/19 21:25</td>\n",
       "      <td>944 Walnut St, Boston, MA 02215</td>\n",
       "    </tr>\n",
       "    <tr>\n",
       "      <th>1</th>\n",
       "      <td>141235</td>\n",
       "      <td>8</td>\n",
       "      <td>1</td>\n",
       "      <td>01/28/19 14:15</td>\n",
       "      <td>185 Maple St, Portland, OR 97035</td>\n",
       "    </tr>\n",
       "    <tr>\n",
       "      <th>2</th>\n",
       "      <td>141236</td>\n",
       "      <td>10</td>\n",
       "      <td>2</td>\n",
       "      <td>01/17/19 13:33</td>\n",
       "      <td>538 Adams St, San Francisco, CA 94016</td>\n",
       "    </tr>\n",
       "    <tr>\n",
       "      <th>3</th>\n",
       "      <td>141237</td>\n",
       "      <td>3</td>\n",
       "      <td>1</td>\n",
       "      <td>01/05/19 20:33</td>\n",
       "      <td>738 10th St, Los Angeles, CA 90001</td>\n",
       "    </tr>\n",
       "    <tr>\n",
       "      <th>4</th>\n",
       "      <td>141238</td>\n",
       "      <td>10</td>\n",
       "      <td>1</td>\n",
       "      <td>01/25/19 11:59</td>\n",
       "      <td>387 10th St, Austin, TX 73301</td>\n",
       "    </tr>\n",
       "  </tbody>\n",
       "</table>\n",
       "</div>"
      ],
      "text/plain": [
       "  Order ID  Product ID Quantity Ordered      Order Date  \\\n",
       "0   141234          21                1  01/22/19 21:25   \n",
       "1   141235           8                1  01/28/19 14:15   \n",
       "2   141236          10                2  01/17/19 13:33   \n",
       "3   141237           3                1  01/05/19 20:33   \n",
       "4   141238          10                1  01/25/19 11:59   \n",
       "\n",
       "                        Purchase Address  \n",
       "0        944 Walnut St, Boston, MA 02215  \n",
       "1       185 Maple St, Portland, OR 97035  \n",
       "2  538 Adams St, San Francisco, CA 94016  \n",
       "3     738 10th St, Los Angeles, CA 90001  \n",
       "4          387 10th St, Austin, TX 73301  "
      ]
     },
     "execution_count": 21,
     "metadata": {},
     "output_type": "execute_result"
    }
   ],
   "source": [
    "com_order_id.head()"
   ]
  },
  {
   "cell_type": "code",
   "execution_count": 22,
   "metadata": {},
   "outputs": [
    {
     "data": {
      "text/plain": [
       "0    [01/22/19, 21:25]\n",
       "1    [01/28/19, 14:15]\n",
       "2    [01/17/19, 13:33]\n",
       "3    [01/05/19, 20:33]\n",
       "4    [01/25/19, 11:59]\n",
       "Name: Order Date, dtype: object"
      ]
     },
     "execution_count": 22,
     "metadata": {},
     "output_type": "execute_result"
    }
   ],
   "source": [
    "data_hora = com_order_id['Order Date'].apply(lambda x: x.split(' '))\n",
    "data_hora.head()"
   ]
  },
  {
   "cell_type": "code",
   "execution_count": 23,
   "metadata": {},
   "outputs": [
    {
     "data": {
      "text/plain": [
       "0    21:25\n",
       "1    14:15\n",
       "2    13:33\n",
       "3    20:33\n",
       "4    11:59\n",
       "Name: Invoice hour, dtype: object"
      ]
     },
     "execution_count": 23,
     "metadata": {},
     "output_type": "execute_result"
    }
   ],
   "source": [
    "hora = data_hora.apply(lambda x: x[1])\n",
    "hora.rename('Invoice hour', inplace = True) #Horario da fatura\n",
    "hora.head()"
   ]
  },
  {
   "cell_type": "code",
   "execution_count": 24,
   "metadata": {},
   "outputs": [
    {
     "data": {
      "text/plain": [
       "0    01/22/19\n",
       "1    01/28/19\n",
       "2    01/17/19\n",
       "3    01/05/19\n",
       "4    01/25/19\n",
       "Name: Order Date, dtype: object"
      ]
     },
     "execution_count": 24,
     "metadata": {},
     "output_type": "execute_result"
    }
   ],
   "source": [
    "data = data_hora.apply(lambda x: x[0])\n",
    "data.rename('Order Date', inplace = True) #Dia do pedido\n",
    "data.head()"
   ]
  },
  {
   "cell_type": "code",
   "execution_count": 25,
   "metadata": {},
   "outputs": [
    {
     "name": "stderr",
     "output_type": "stream",
     "text": [
      "C:\\Users\\cesar\\Anaconda3\\lib\\site-packages\\pandas\\core\\frame.py:3990: SettingWithCopyWarning: \n",
      "A value is trying to be set on a copy of a slice from a DataFrame\n",
      "\n",
      "See the caveats in the documentation: https://pandas.pydata.org/pandas-docs/stable/user_guide/indexing.html#returning-a-view-versus-a-copy\n",
      "  return super().drop(\n"
     ]
    }
   ],
   "source": [
    "com_order_id.drop(['Order Date'], axis= 1, inplace= True)"
   ]
  },
  {
   "cell_type": "code",
   "execution_count": 26,
   "metadata": {},
   "outputs": [
    {
     "data": {
      "text/html": [
       "<div>\n",
       "<style scoped>\n",
       "    .dataframe tbody tr th:only-of-type {\n",
       "        vertical-align: middle;\n",
       "    }\n",
       "\n",
       "    .dataframe tbody tr th {\n",
       "        vertical-align: top;\n",
       "    }\n",
       "\n",
       "    .dataframe thead th {\n",
       "        text-align: right;\n",
       "    }\n",
       "</style>\n",
       "<table border=\"1\" class=\"dataframe\">\n",
       "  <thead>\n",
       "    <tr style=\"text-align: right;\">\n",
       "      <th></th>\n",
       "      <th>Order ID</th>\n",
       "      <th>Product ID</th>\n",
       "      <th>Quantity Ordered</th>\n",
       "      <th>Purchase Address</th>\n",
       "    </tr>\n",
       "  </thead>\n",
       "  <tbody>\n",
       "    <tr>\n",
       "      <th>0</th>\n",
       "      <td>141234</td>\n",
       "      <td>21</td>\n",
       "      <td>1</td>\n",
       "      <td>944 Walnut St, Boston, MA 02215</td>\n",
       "    </tr>\n",
       "    <tr>\n",
       "      <th>1</th>\n",
       "      <td>141235</td>\n",
       "      <td>8</td>\n",
       "      <td>1</td>\n",
       "      <td>185 Maple St, Portland, OR 97035</td>\n",
       "    </tr>\n",
       "    <tr>\n",
       "      <th>2</th>\n",
       "      <td>141236</td>\n",
       "      <td>10</td>\n",
       "      <td>2</td>\n",
       "      <td>538 Adams St, San Francisco, CA 94016</td>\n",
       "    </tr>\n",
       "    <tr>\n",
       "      <th>3</th>\n",
       "      <td>141237</td>\n",
       "      <td>3</td>\n",
       "      <td>1</td>\n",
       "      <td>738 10th St, Los Angeles, CA 90001</td>\n",
       "    </tr>\n",
       "    <tr>\n",
       "      <th>4</th>\n",
       "      <td>141238</td>\n",
       "      <td>10</td>\n",
       "      <td>1</td>\n",
       "      <td>387 10th St, Austin, TX 73301</td>\n",
       "    </tr>\n",
       "    <tr>\n",
       "      <th>...</th>\n",
       "      <td>...</td>\n",
       "      <td>...</td>\n",
       "      <td>...</td>\n",
       "      <td>...</td>\n",
       "    </tr>\n",
       "    <tr>\n",
       "      <th>25112</th>\n",
       "      <td>319666</td>\n",
       "      <td>8</td>\n",
       "      <td>1</td>\n",
       "      <td>14 Madison St, San Francisco, CA 94016</td>\n",
       "    </tr>\n",
       "    <tr>\n",
       "      <th>25113</th>\n",
       "      <td>319667</td>\n",
       "      <td>4</td>\n",
       "      <td>2</td>\n",
       "      <td>549 Willow St, Los Angeles, CA 90001</td>\n",
       "    </tr>\n",
       "    <tr>\n",
       "      <th>25114</th>\n",
       "      <td>319668</td>\n",
       "      <td>26</td>\n",
       "      <td>1</td>\n",
       "      <td>273 Wilson St, Seattle, WA 98101</td>\n",
       "    </tr>\n",
       "    <tr>\n",
       "      <th>25115</th>\n",
       "      <td>319669</td>\n",
       "      <td>10</td>\n",
       "      <td>1</td>\n",
       "      <td>778 River St, Dallas, TX 75001</td>\n",
       "    </tr>\n",
       "    <tr>\n",
       "      <th>25116</th>\n",
       "      <td>319670</td>\n",
       "      <td>5</td>\n",
       "      <td>1</td>\n",
       "      <td>747 Chestnut St, Los Angeles, CA 90001</td>\n",
       "    </tr>\n",
       "  </tbody>\n",
       "</table>\n",
       "<p>186305 rows × 4 columns</p>\n",
       "</div>"
      ],
      "text/plain": [
       "      Order ID  Product ID Quantity Ordered  \\\n",
       "0       141234          21                1   \n",
       "1       141235           8                1   \n",
       "2       141236          10                2   \n",
       "3       141237           3                1   \n",
       "4       141238          10                1   \n",
       "...        ...         ...              ...   \n",
       "25112   319666           8                1   \n",
       "25113   319667           4                2   \n",
       "25114   319668          26                1   \n",
       "25115   319669          10                1   \n",
       "25116   319670           5                1   \n",
       "\n",
       "                             Purchase Address  \n",
       "0             944 Walnut St, Boston, MA 02215  \n",
       "1            185 Maple St, Portland, OR 97035  \n",
       "2       538 Adams St, San Francisco, CA 94016  \n",
       "3          738 10th St, Los Angeles, CA 90001  \n",
       "4               387 10th St, Austin, TX 73301  \n",
       "...                                       ...  \n",
       "25112  14 Madison St, San Francisco, CA 94016  \n",
       "25113    549 Willow St, Los Angeles, CA 90001  \n",
       "25114        273 Wilson St, Seattle, WA 98101  \n",
       "25115          778 River St, Dallas, TX 75001  \n",
       "25116  747 Chestnut St, Los Angeles, CA 90001  \n",
       "\n",
       "[186305 rows x 4 columns]"
      ]
     },
     "execution_count": 26,
     "metadata": {},
     "output_type": "execute_result"
    }
   ],
   "source": [
    "com_order_id"
   ]
  },
  {
   "cell_type": "code",
   "execution_count": 27,
   "metadata": {},
   "outputs": [],
   "source": [
    "df_organizado = pd.concat([com_order_id, data, hora], axis= 1)"
   ]
  },
  {
   "cell_type": "code",
   "execution_count": 28,
   "metadata": {},
   "outputs": [
    {
     "data": {
      "text/html": [
       "<div>\n",
       "<style scoped>\n",
       "    .dataframe tbody tr th:only-of-type {\n",
       "        vertical-align: middle;\n",
       "    }\n",
       "\n",
       "    .dataframe tbody tr th {\n",
       "        vertical-align: top;\n",
       "    }\n",
       "\n",
       "    .dataframe thead th {\n",
       "        text-align: right;\n",
       "    }\n",
       "</style>\n",
       "<table border=\"1\" class=\"dataframe\">\n",
       "  <thead>\n",
       "    <tr style=\"text-align: right;\">\n",
       "      <th></th>\n",
       "      <th>Order ID</th>\n",
       "      <th>Product ID</th>\n",
       "      <th>Quantity Ordered</th>\n",
       "      <th>Purchase Address</th>\n",
       "      <th>Order Date</th>\n",
       "      <th>Invoice hour</th>\n",
       "    </tr>\n",
       "  </thead>\n",
       "  <tbody>\n",
       "    <tr>\n",
       "      <th>0</th>\n",
       "      <td>141234</td>\n",
       "      <td>21</td>\n",
       "      <td>1</td>\n",
       "      <td>944 Walnut St, Boston, MA 02215</td>\n",
       "      <td>01/22/19</td>\n",
       "      <td>21:25</td>\n",
       "    </tr>\n",
       "    <tr>\n",
       "      <th>1</th>\n",
       "      <td>141235</td>\n",
       "      <td>8</td>\n",
       "      <td>1</td>\n",
       "      <td>185 Maple St, Portland, OR 97035</td>\n",
       "      <td>01/28/19</td>\n",
       "      <td>14:15</td>\n",
       "    </tr>\n",
       "    <tr>\n",
       "      <th>2</th>\n",
       "      <td>141236</td>\n",
       "      <td>10</td>\n",
       "      <td>2</td>\n",
       "      <td>538 Adams St, San Francisco, CA 94016</td>\n",
       "      <td>01/17/19</td>\n",
       "      <td>13:33</td>\n",
       "    </tr>\n",
       "    <tr>\n",
       "      <th>3</th>\n",
       "      <td>141237</td>\n",
       "      <td>3</td>\n",
       "      <td>1</td>\n",
       "      <td>738 10th St, Los Angeles, CA 90001</td>\n",
       "      <td>01/05/19</td>\n",
       "      <td>20:33</td>\n",
       "    </tr>\n",
       "    <tr>\n",
       "      <th>4</th>\n",
       "      <td>141238</td>\n",
       "      <td>10</td>\n",
       "      <td>1</td>\n",
       "      <td>387 10th St, Austin, TX 73301</td>\n",
       "      <td>01/25/19</td>\n",
       "      <td>11:59</td>\n",
       "    </tr>\n",
       "  </tbody>\n",
       "</table>\n",
       "</div>"
      ],
      "text/plain": [
       "  Order ID  Product ID Quantity Ordered  \\\n",
       "0   141234          21                1   \n",
       "1   141235           8                1   \n",
       "2   141236          10                2   \n",
       "3   141237           3                1   \n",
       "4   141238          10                1   \n",
       "\n",
       "                        Purchase Address Order Date Invoice hour  \n",
       "0        944 Walnut St, Boston, MA 02215   01/22/19        21:25  \n",
       "1       185 Maple St, Portland, OR 97035   01/28/19        14:15  \n",
       "2  538 Adams St, San Francisco, CA 94016   01/17/19        13:33  \n",
       "3     738 10th St, Los Angeles, CA 90001   01/05/19        20:33  \n",
       "4          387 10th St, Austin, TX 73301   01/25/19        11:59  "
      ]
     },
     "execution_count": 28,
     "metadata": {},
     "output_type": "execute_result"
    }
   ],
   "source": [
    "df_organizado.head()"
   ]
  },
  {
   "cell_type": "markdown",
   "metadata": {},
   "source": [
    "# Analisando o dataframe de produtos\n",
    "- Após uma breve análise não detectamos nenhuma anomalia nos dados de produtos;"
   ]
  },
  {
   "cell_type": "code",
   "execution_count": 29,
   "metadata": {},
   "outputs": [
    {
     "data": {
      "text/html": [
       "<div>\n",
       "<style scoped>\n",
       "    .dataframe tbody tr th:only-of-type {\n",
       "        vertical-align: middle;\n",
       "    }\n",
       "\n",
       "    .dataframe tbody tr th {\n",
       "        vertical-align: top;\n",
       "    }\n",
       "\n",
       "    .dataframe thead th {\n",
       "        text-align: right;\n",
       "    }\n",
       "</style>\n",
       "<table border=\"1\" class=\"dataframe\">\n",
       "  <thead>\n",
       "    <tr style=\"text-align: right;\">\n",
       "      <th></th>\n",
       "      <th>id</th>\n",
       "      <th>Product</th>\n",
       "      <th>Price Each</th>\n",
       "    </tr>\n",
       "  </thead>\n",
       "  <tbody>\n",
       "    <tr>\n",
       "      <th>0</th>\n",
       "      <td>0</td>\n",
       "      <td>Macbook Pro Laptop</td>\n",
       "      <td>1700</td>\n",
       "    </tr>\n",
       "    <tr>\n",
       "      <th>1</th>\n",
       "      <td>1</td>\n",
       "      <td>LG Washing Machine</td>\n",
       "      <td>600.0</td>\n",
       "    </tr>\n",
       "    <tr>\n",
       "      <th>2</th>\n",
       "      <td>2</td>\n",
       "      <td>USB-C Charging Cable</td>\n",
       "      <td>11.95</td>\n",
       "    </tr>\n",
       "    <tr>\n",
       "      <th>3</th>\n",
       "      <td>3</td>\n",
       "      <td>27in FHD Monitor</td>\n",
       "      <td>149.99</td>\n",
       "    </tr>\n",
       "    <tr>\n",
       "      <th>4</th>\n",
       "      <td>4</td>\n",
       "      <td>AA Batteries (4-pack)</td>\n",
       "      <td>3.84</td>\n",
       "    </tr>\n",
       "  </tbody>\n",
       "</table>\n",
       "</div>"
      ],
      "text/plain": [
       "   id                Product Price Each\n",
       "0   0     Macbook Pro Laptop       1700\n",
       "1   1     LG Washing Machine      600.0\n",
       "2   2   USB-C Charging Cable      11.95\n",
       "3   3       27in FHD Monitor     149.99\n",
       "4   4  AA Batteries (4-pack)       3.84"
      ]
     },
     "execution_count": 29,
     "metadata": {},
     "output_type": "execute_result"
    }
   ],
   "source": [
    "produtos.head()"
   ]
  },
  {
   "cell_type": "code",
   "execution_count": 30,
   "metadata": {},
   "outputs": [],
   "source": [
    "valores_nulos = produtos.isna()"
   ]
  },
  {
   "cell_type": "code",
   "execution_count": 31,
   "metadata": {},
   "outputs": [
    {
     "data": {
      "text/plain": [
       "False    27\n",
       "Name: id, dtype: int64"
      ]
     },
     "execution_count": 31,
     "metadata": {},
     "output_type": "execute_result"
    }
   ],
   "source": [
    "valores_nulos['id'].value_counts()"
   ]
  },
  {
   "cell_type": "code",
   "execution_count": 32,
   "metadata": {},
   "outputs": [
    {
     "data": {
      "text/plain": [
       "False    27\n",
       "Name: Product, dtype: int64"
      ]
     },
     "execution_count": 32,
     "metadata": {},
     "output_type": "execute_result"
    }
   ],
   "source": [
    "valores_nulos['Product'].value_counts()"
   ]
  },
  {
   "cell_type": "code",
   "execution_count": 33,
   "metadata": {},
   "outputs": [
    {
     "data": {
      "text/plain": [
       "False    27\n",
       "Name: Price Each, dtype: int64"
      ]
     },
     "execution_count": 33,
     "metadata": {},
     "output_type": "execute_result"
    }
   ],
   "source": [
    "valores_nulos['Price Each'].value_counts()"
   ]
  },
  {
   "cell_type": "markdown",
   "metadata": {},
   "source": [
    "# Relacionando dados de Produtos e Compras\n",
    "- Renomeamos a coluna \"id\" para \"Product ID\" do dataframe products para que seja possivel realizar a relação com o dataframe de transações;\n",
    "- Unificamos os dataframes a partir do comando .merge arquivos pela coluna comum \"Product ID\";\n",
    "- Utilizamos o método a \"left\" para que todos os produtos constem na relação entre os dataframes;\n",
    "- Unificarmos os dataframes e logo podemos notar a presença de dados nulos;"
   ]
  },
  {
   "cell_type": "code",
   "execution_count": 34,
   "metadata": {},
   "outputs": [
    {
     "data": {
      "text/html": [
       "<div>\n",
       "<style scoped>\n",
       "    .dataframe tbody tr th:only-of-type {\n",
       "        vertical-align: middle;\n",
       "    }\n",
       "\n",
       "    .dataframe tbody tr th {\n",
       "        vertical-align: top;\n",
       "    }\n",
       "\n",
       "    .dataframe thead th {\n",
       "        text-align: right;\n",
       "    }\n",
       "</style>\n",
       "<table border=\"1\" class=\"dataframe\">\n",
       "  <thead>\n",
       "    <tr style=\"text-align: right;\">\n",
       "      <th></th>\n",
       "      <th>Product ID</th>\n",
       "      <th>Product</th>\n",
       "      <th>Price Each</th>\n",
       "    </tr>\n",
       "  </thead>\n",
       "  <tbody>\n",
       "    <tr>\n",
       "      <th>0</th>\n",
       "      <td>0</td>\n",
       "      <td>Macbook Pro Laptop</td>\n",
       "      <td>1700</td>\n",
       "    </tr>\n",
       "    <tr>\n",
       "      <th>1</th>\n",
       "      <td>1</td>\n",
       "      <td>LG Washing Machine</td>\n",
       "      <td>600.0</td>\n",
       "    </tr>\n",
       "    <tr>\n",
       "      <th>2</th>\n",
       "      <td>2</td>\n",
       "      <td>USB-C Charging Cable</td>\n",
       "      <td>11.95</td>\n",
       "    </tr>\n",
       "    <tr>\n",
       "      <th>3</th>\n",
       "      <td>3</td>\n",
       "      <td>27in FHD Monitor</td>\n",
       "      <td>149.99</td>\n",
       "    </tr>\n",
       "    <tr>\n",
       "      <th>4</th>\n",
       "      <td>4</td>\n",
       "      <td>AA Batteries (4-pack)</td>\n",
       "      <td>3.84</td>\n",
       "    </tr>\n",
       "    <tr>\n",
       "      <th>5</th>\n",
       "      <td>5</td>\n",
       "      <td>Bose SoundSport Headphones</td>\n",
       "      <td>99.99</td>\n",
       "    </tr>\n",
       "    <tr>\n",
       "      <th>6</th>\n",
       "      <td>6</td>\n",
       "      <td>AAA Batteries (4-pack)</td>\n",
       "      <td>2.99</td>\n",
       "    </tr>\n",
       "    <tr>\n",
       "      <th>7</th>\n",
       "      <td>7</td>\n",
       "      <td>ThinkPad Laptop</td>\n",
       "      <td>999.99</td>\n",
       "    </tr>\n",
       "    <tr>\n",
       "      <th>8</th>\n",
       "      <td>8</td>\n",
       "      <td>Lightning Charging Cable</td>\n",
       "      <td>14.95</td>\n",
       "    </tr>\n",
       "    <tr>\n",
       "      <th>9</th>\n",
       "      <td>9</td>\n",
       "      <td>Google Phone</td>\n",
       "      <td>600</td>\n",
       "    </tr>\n",
       "    <tr>\n",
       "      <th>10</th>\n",
       "      <td>10</td>\n",
       "      <td>Wired Headphones</td>\n",
       "      <td>11.99</td>\n",
       "    </tr>\n",
       "    <tr>\n",
       "      <th>11</th>\n",
       "      <td>11</td>\n",
       "      <td>Apple Airpods Headphones</td>\n",
       "      <td>150</td>\n",
       "    </tr>\n",
       "    <tr>\n",
       "      <th>12</th>\n",
       "      <td>12</td>\n",
       "      <td>Vareebadd Phone</td>\n",
       "      <td>400</td>\n",
       "    </tr>\n",
       "    <tr>\n",
       "      <th>13</th>\n",
       "      <td>13</td>\n",
       "      <td>iPhone</td>\n",
       "      <td>700</td>\n",
       "    </tr>\n",
       "    <tr>\n",
       "      <th>14</th>\n",
       "      <td>14</td>\n",
       "      <td>20in Monitor</td>\n",
       "      <td>109.99</td>\n",
       "    </tr>\n",
       "    <tr>\n",
       "      <th>15</th>\n",
       "      <td>15</td>\n",
       "      <td>34in Ultrawide Monitor</td>\n",
       "      <td>379.99</td>\n",
       "    </tr>\n",
       "    <tr>\n",
       "      <th>16</th>\n",
       "      <td>16</td>\n",
       "      <td>Flatscreen TV</td>\n",
       "      <td>300</td>\n",
       "    </tr>\n",
       "    <tr>\n",
       "      <th>17</th>\n",
       "      <td>17</td>\n",
       "      <td>27in 4K Gaming Monitor</td>\n",
       "      <td>389.99</td>\n",
       "    </tr>\n",
       "    <tr>\n",
       "      <th>18</th>\n",
       "      <td>18</td>\n",
       "      <td>Product</td>\n",
       "      <td>Price Each</td>\n",
       "    </tr>\n",
       "    <tr>\n",
       "      <th>19</th>\n",
       "      <td>19</td>\n",
       "      <td>MISSING</td>\n",
       "      <td>MISSING</td>\n",
       "    </tr>\n",
       "    <tr>\n",
       "      <th>20</th>\n",
       "      <td>20</td>\n",
       "      <td>LG Dryer</td>\n",
       "      <td>600.0</td>\n",
       "    </tr>\n",
       "    <tr>\n",
       "      <th>21</th>\n",
       "      <td>21</td>\n",
       "      <td>iPhone</td>\n",
       "      <td>700.0</td>\n",
       "    </tr>\n",
       "    <tr>\n",
       "      <th>22</th>\n",
       "      <td>22</td>\n",
       "      <td>Macbook Pro Laptop</td>\n",
       "      <td>1700.0</td>\n",
       "    </tr>\n",
       "    <tr>\n",
       "      <th>23</th>\n",
       "      <td>23</td>\n",
       "      <td>Apple Airpods Headphones</td>\n",
       "      <td>150.0</td>\n",
       "    </tr>\n",
       "    <tr>\n",
       "      <th>24</th>\n",
       "      <td>24</td>\n",
       "      <td>Flatscreen TV</td>\n",
       "      <td>300.0</td>\n",
       "    </tr>\n",
       "    <tr>\n",
       "      <th>25</th>\n",
       "      <td>25</td>\n",
       "      <td>Google Phone</td>\n",
       "      <td>600.0</td>\n",
       "    </tr>\n",
       "    <tr>\n",
       "      <th>26</th>\n",
       "      <td>26</td>\n",
       "      <td>Vareebadd Phone</td>\n",
       "      <td>400.0</td>\n",
       "    </tr>\n",
       "  </tbody>\n",
       "</table>\n",
       "</div>"
      ],
      "text/plain": [
       "    Product ID                     Product  Price Each\n",
       "0            0          Macbook Pro Laptop        1700\n",
       "1            1          LG Washing Machine       600.0\n",
       "2            2        USB-C Charging Cable       11.95\n",
       "3            3            27in FHD Monitor      149.99\n",
       "4            4       AA Batteries (4-pack)        3.84\n",
       "5            5  Bose SoundSport Headphones       99.99\n",
       "6            6      AAA Batteries (4-pack)        2.99\n",
       "7            7             ThinkPad Laptop      999.99\n",
       "8            8    Lightning Charging Cable       14.95\n",
       "9            9                Google Phone         600\n",
       "10          10            Wired Headphones       11.99\n",
       "11          11    Apple Airpods Headphones         150\n",
       "12          12             Vareebadd Phone         400\n",
       "13          13                      iPhone         700\n",
       "14          14                20in Monitor      109.99\n",
       "15          15      34in Ultrawide Monitor      379.99\n",
       "16          16               Flatscreen TV         300\n",
       "17          17      27in 4K Gaming Monitor      389.99\n",
       "18          18                     Product  Price Each\n",
       "19          19                     MISSING     MISSING\n",
       "20          20                    LG Dryer       600.0\n",
       "21          21                      iPhone       700.0\n",
       "22          22          Macbook Pro Laptop      1700.0\n",
       "23          23    Apple Airpods Headphones       150.0\n",
       "24          24               Flatscreen TV       300.0\n",
       "25          25                Google Phone       600.0\n",
       "26          26             Vareebadd Phone       400.0"
      ]
     },
     "execution_count": 34,
     "metadata": {},
     "output_type": "execute_result"
    }
   ],
   "source": [
    "produtos.rename(columns = {'id': 'Product ID'}, inplace= True)\n",
    "produtos"
   ]
  },
  {
   "cell_type": "code",
   "execution_count": 35,
   "metadata": {},
   "outputs": [
    {
     "data": {
      "text/html": [
       "<div>\n",
       "<style scoped>\n",
       "    .dataframe tbody tr th:only-of-type {\n",
       "        vertical-align: middle;\n",
       "    }\n",
       "\n",
       "    .dataframe tbody tr th {\n",
       "        vertical-align: top;\n",
       "    }\n",
       "\n",
       "    .dataframe thead th {\n",
       "        text-align: right;\n",
       "    }\n",
       "</style>\n",
       "<table border=\"1\" class=\"dataframe\">\n",
       "  <thead>\n",
       "    <tr style=\"text-align: right;\">\n",
       "      <th></th>\n",
       "      <th>Product ID</th>\n",
       "      <th>Product</th>\n",
       "      <th>Price Each</th>\n",
       "      <th>Order ID</th>\n",
       "      <th>Quantity Ordered</th>\n",
       "      <th>Purchase Address</th>\n",
       "      <th>Order Date</th>\n",
       "      <th>Invoice hour</th>\n",
       "    </tr>\n",
       "  </thead>\n",
       "  <tbody>\n",
       "    <tr>\n",
       "      <th>0</th>\n",
       "      <td>0</td>\n",
       "      <td>Macbook Pro Laptop</td>\n",
       "      <td>1700</td>\n",
       "      <td>NaN</td>\n",
       "      <td>NaN</td>\n",
       "      <td>NaN</td>\n",
       "      <td>NaN</td>\n",
       "      <td>NaN</td>\n",
       "    </tr>\n",
       "    <tr>\n",
       "      <th>1</th>\n",
       "      <td>1</td>\n",
       "      <td>LG Washing Machine</td>\n",
       "      <td>600.0</td>\n",
       "      <td>141516</td>\n",
       "      <td>1</td>\n",
       "      <td>382 Main St, Seattle, WA 98101</td>\n",
       "      <td>01/17/19</td>\n",
       "      <td>19:53</td>\n",
       "    </tr>\n",
       "    <tr>\n",
       "      <th>2</th>\n",
       "      <td>1</td>\n",
       "      <td>LG Washing Machine</td>\n",
       "      <td>600.0</td>\n",
       "      <td>141766</td>\n",
       "      <td>1</td>\n",
       "      <td>530 Jackson St, Dallas, TX 75001</td>\n",
       "      <td>01/16/19</td>\n",
       "      <td>21:08</td>\n",
       "    </tr>\n",
       "    <tr>\n",
       "      <th>3</th>\n",
       "      <td>1</td>\n",
       "      <td>LG Washing Machine</td>\n",
       "      <td>600.0</td>\n",
       "      <td>142560</td>\n",
       "      <td>1</td>\n",
       "      <td>433 Main St, Dallas, TX 75001</td>\n",
       "      <td>01/26/19</td>\n",
       "      <td>12:27</td>\n",
       "    </tr>\n",
       "    <tr>\n",
       "      <th>4</th>\n",
       "      <td>1</td>\n",
       "      <td>LG Washing Machine</td>\n",
       "      <td>600.0</td>\n",
       "      <td>142714</td>\n",
       "      <td>1</td>\n",
       "      <td>972 12th St, San Francisco, CA 94016</td>\n",
       "      <td>01/01/19</td>\n",
       "      <td>13:15</td>\n",
       "    </tr>\n",
       "  </tbody>\n",
       "</table>\n",
       "</div>"
      ],
      "text/plain": [
       "   Product ID             Product Price Each Order ID Quantity Ordered  \\\n",
       "0           0  Macbook Pro Laptop       1700      NaN              NaN   \n",
       "1           1  LG Washing Machine      600.0   141516                1   \n",
       "2           1  LG Washing Machine      600.0   141766                1   \n",
       "3           1  LG Washing Machine      600.0   142560                1   \n",
       "4           1  LG Washing Machine      600.0   142714                1   \n",
       "\n",
       "                       Purchase Address Order Date Invoice hour  \n",
       "0                                   NaN        NaN          NaN  \n",
       "1        382 Main St, Seattle, WA 98101   01/17/19        19:53  \n",
       "2      530 Jackson St, Dallas, TX 75001   01/16/19        21:08  \n",
       "3         433 Main St, Dallas, TX 75001   01/26/19        12:27  \n",
       "4  972 12th St, San Francisco, CA 94016   01/01/19        13:15  "
      ]
     },
     "execution_count": 35,
     "metadata": {},
     "output_type": "execute_result"
    }
   ],
   "source": [
    "df_relacionado = pd.merge(produtos, df_organizado, on='Product ID', how = 'left')\n",
    "df_relacionado.head()"
   ]
  },
  {
   "cell_type": "markdown",
   "metadata": {},
   "source": [
    "# Realizando a limpeza final do conjunto\n",
    "- Por termos utilizado o \".merge\" tendo como referencia a coluna \"Product ID\"s do dataframe de produtos, sabemos que todos os itens irão constar na tabela unificada ou seja, sabendo que o dataframe anterior não possuia valores nulos, os mesmos podem ter sido gerados por produtos que não foram relacionados através do \".merge\", provavelmente por não terem sido adquiridos neste intervalo de estudo;\n",
    "- Listamos os Product Ids dos dataframes de transações e produtos para compararmos se há diferenças;\n",
    "- Identificamos que os Product IDs 0, 9, 11, 12, 13, 16, 19 não existem nos dataframes de compras ou seja 7 itens, comprovando por tantoa  hipótese de que haveriam produtos não comprados neste intervalo, justificando os dados nulos gerados;\n",
    "- Removemos por tanto todos os itens nulos do dataframe;"
   ]
  },
  {
   "cell_type": "code",
   "execution_count": 36,
   "metadata": {},
   "outputs": [],
   "source": [
    "df_relacionado_nulos = df_relacionado.isnull()"
   ]
  },
  {
   "cell_type": "code",
   "execution_count": 37,
   "metadata": {},
   "outputs": [
    {
     "data": {
      "text/plain": [
       "False    186305\n",
       "True          7\n",
       "Name: Order ID, dtype: int64"
      ]
     },
     "execution_count": 37,
     "metadata": {},
     "output_type": "execute_result"
    }
   ],
   "source": [
    "df_relacionado_nulos['Order ID'].value_counts()"
   ]
  },
  {
   "cell_type": "code",
   "execution_count": 38,
   "metadata": {},
   "outputs": [
    {
     "data": {
      "text/plain": [
       "20"
      ]
     },
     "execution_count": 38,
     "metadata": {},
     "output_type": "execute_result"
    }
   ],
   "source": [
    "produtos_consumidos = df_organizado['Product ID'].unique()\n",
    "len(produtos_consumidos)"
   ]
  },
  {
   "cell_type": "code",
   "execution_count": 39,
   "metadata": {},
   "outputs": [
    {
     "data": {
      "text/plain": [
       "27"
      ]
     },
     "execution_count": 39,
     "metadata": {},
     "output_type": "execute_result"
    }
   ],
   "source": [
    "produtos_existentes = produtos['Product ID'].unique()\n",
    "len(produtos_existentes)"
   ]
  },
  {
   "cell_type": "code",
   "execution_count": 40,
   "metadata": {},
   "outputs": [
    {
     "name": "stdout",
     "output_type": "stream",
     "text": [
      "[0, 9, 11, 12, 13, 16, 19]\n"
     ]
    }
   ],
   "source": [
    "produtos_n_consumidos = []\n",
    "\n",
    "for i in produtos_existentes:\n",
    "    if i in produtos_consumidos:\n",
    "        pass\n",
    "    else:\n",
    "        produtos_n_consumidos.append(i)\n",
    "print(produtos_n_consumidos)"
   ]
  },
  {
   "cell_type": "code",
   "execution_count": 41,
   "metadata": {},
   "outputs": [],
   "source": [
    "df_relacionado.dropna(inplace= True)"
   ]
  },
  {
   "cell_type": "code",
   "execution_count": 42,
   "metadata": {},
   "outputs": [],
   "source": [
    "df_relacionado_nulos = df_relacionado.isnull()"
   ]
  },
  {
   "cell_type": "code",
   "execution_count": 43,
   "metadata": {},
   "outputs": [
    {
     "data": {
      "text/plain": [
       "False    186305\n",
       "Name: Order ID, dtype: int64"
      ]
     },
     "execution_count": 43,
     "metadata": {},
     "output_type": "execute_result"
    }
   ],
   "source": [
    "df_relacionado_nulos['Order ID'].value_counts()"
   ]
  },
  {
   "cell_type": "markdown",
   "metadata": {},
   "source": [
    "# Exportanto dados tratados"
   ]
  },
  {
   "cell_type": "code",
   "execution_count": 49,
   "metadata": {},
   "outputs": [],
   "source": [
    "df_relacionado.to_csv('dados_vendas/Sales_2019.csv', sep = ',', index = False)"
   ]
  },
  {
   "cell_type": "code",
   "execution_count": 50,
   "metadata": {},
   "outputs": [
    {
     "name": "stderr",
     "output_type": "stream",
     "text": [
      "C:\\Users\\cesar\\Anaconda3\\lib\\site-packages\\IPython\\core\\interactiveshell.py:3071: DtypeWarning: Columns (2,3,4) have mixed types.Specify dtype option on import or set low_memory=False.\n",
      "  has_raised = await self.run_ast_nodes(code_ast.body, cell_name,\n"
     ]
    }
   ],
   "source": [
    "dados = pd.read_csv('dados_vendas/Sales_2019.csv', sep=',')"
   ]
  },
  {
   "cell_type": "code",
   "execution_count": 51,
   "metadata": {},
   "outputs": [
    {
     "data": {
      "text/html": [
       "<div>\n",
       "<style scoped>\n",
       "    .dataframe tbody tr th:only-of-type {\n",
       "        vertical-align: middle;\n",
       "    }\n",
       "\n",
       "    .dataframe tbody tr th {\n",
       "        vertical-align: top;\n",
       "    }\n",
       "\n",
       "    .dataframe thead th {\n",
       "        text-align: right;\n",
       "    }\n",
       "</style>\n",
       "<table border=\"1\" class=\"dataframe\">\n",
       "  <thead>\n",
       "    <tr style=\"text-align: right;\">\n",
       "      <th></th>\n",
       "      <th>Product ID</th>\n",
       "      <th>Product</th>\n",
       "      <th>Price Each</th>\n",
       "      <th>Order ID</th>\n",
       "      <th>Quantity Ordered</th>\n",
       "      <th>Purchase Address</th>\n",
       "      <th>Order Date</th>\n",
       "      <th>Invoice hour</th>\n",
       "    </tr>\n",
       "  </thead>\n",
       "  <tbody>\n",
       "    <tr>\n",
       "      <th>0</th>\n",
       "      <td>1</td>\n",
       "      <td>LG Washing Machine</td>\n",
       "      <td>600</td>\n",
       "      <td>141516</td>\n",
       "      <td>1</td>\n",
       "      <td>382 Main St, Seattle, WA 98101</td>\n",
       "      <td>01/17/19</td>\n",
       "      <td>19:53</td>\n",
       "    </tr>\n",
       "    <tr>\n",
       "      <th>1</th>\n",
       "      <td>1</td>\n",
       "      <td>LG Washing Machine</td>\n",
       "      <td>600</td>\n",
       "      <td>141766</td>\n",
       "      <td>1</td>\n",
       "      <td>530 Jackson St, Dallas, TX 75001</td>\n",
       "      <td>01/16/19</td>\n",
       "      <td>21:08</td>\n",
       "    </tr>\n",
       "    <tr>\n",
       "      <th>2</th>\n",
       "      <td>1</td>\n",
       "      <td>LG Washing Machine</td>\n",
       "      <td>600</td>\n",
       "      <td>142560</td>\n",
       "      <td>1</td>\n",
       "      <td>433 Main St, Dallas, TX 75001</td>\n",
       "      <td>01/26/19</td>\n",
       "      <td>12:27</td>\n",
       "    </tr>\n",
       "    <tr>\n",
       "      <th>3</th>\n",
       "      <td>1</td>\n",
       "      <td>LG Washing Machine</td>\n",
       "      <td>600</td>\n",
       "      <td>142714</td>\n",
       "      <td>1</td>\n",
       "      <td>972 12th St, San Francisco, CA 94016</td>\n",
       "      <td>01/01/19</td>\n",
       "      <td>13:15</td>\n",
       "    </tr>\n",
       "    <tr>\n",
       "      <th>4</th>\n",
       "      <td>1</td>\n",
       "      <td>LG Washing Machine</td>\n",
       "      <td>600</td>\n",
       "      <td>142939</td>\n",
       "      <td>1</td>\n",
       "      <td>5 Spruce St, San Francisco, CA 94016</td>\n",
       "      <td>01/25/19</td>\n",
       "      <td>12:35</td>\n",
       "    </tr>\n",
       "  </tbody>\n",
       "</table>\n",
       "</div>"
      ],
      "text/plain": [
       "   Product ID             Product Price Each Order ID Quantity Ordered  \\\n",
       "0           1  LG Washing Machine        600   141516                1   \n",
       "1           1  LG Washing Machine        600   141766                1   \n",
       "2           1  LG Washing Machine        600   142560                1   \n",
       "3           1  LG Washing Machine        600   142714                1   \n",
       "4           1  LG Washing Machine        600   142939                1   \n",
       "\n",
       "                       Purchase Address Order Date Invoice hour  \n",
       "0        382 Main St, Seattle, WA 98101   01/17/19        19:53  \n",
       "1      530 Jackson St, Dallas, TX 75001   01/16/19        21:08  \n",
       "2         433 Main St, Dallas, TX 75001   01/26/19        12:27  \n",
       "3  972 12th St, San Francisco, CA 94016   01/01/19        13:15  \n",
       "4  5 Spruce St, San Francisco, CA 94016   01/25/19        12:35  "
      ]
     },
     "execution_count": 51,
     "metadata": {},
     "output_type": "execute_result"
    }
   ],
   "source": [
    "dados.head()"
   ]
  }
 ],
 "metadata": {
  "kernelspec": {
   "display_name": "Python 3",
   "language": "python",
   "name": "python3"
  },
  "language_info": {
   "codemirror_mode": {
    "name": "ipython",
    "version": 3
   },
   "file_extension": ".py",
   "mimetype": "text/x-python",
   "name": "python",
   "nbconvert_exporter": "python",
   "pygments_lexer": "ipython3",
   "version": "3.8.3"
  },
  "toc": {
   "base_numbering": 1,
   "nav_menu": {},
   "number_sections": true,
   "sideBar": true,
   "skip_h1_title": false,
   "title_cell": "Table of Contents",
   "title_sidebar": "Contents",
   "toc_cell": false,
   "toc_position": {
    "height": "calc(100% - 180px)",
    "left": "10px",
    "top": "150px",
    "width": "185px"
   },
   "toc_section_display": true,
   "toc_window_display": true
  }
 },
 "nbformat": 4,
 "nbformat_minor": 4
}
